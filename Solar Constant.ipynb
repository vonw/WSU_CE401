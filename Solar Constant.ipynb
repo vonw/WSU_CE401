{
 "cells": [
  {
   "cell_type": "markdown",
   "metadata": {},
   "source": [
    "# Calculation of the Solar Constant"
   ]
  },
  {
   "cell_type": "markdown",
   "metadata": {},
   "source": [
    "## Useful links\n",
    "\n",
    "### [Information on the Solar \"Constant\"](https://en.wikipedia.org/wiki/Solar_cycle)\n",
    "\n",
    "### [Information on Earth's orbit](https://en.wikipedia.org/wiki/Earth%27s_orbit)"
   ]
  },
  {
   "cell_type": "code",
   "execution_count": 10,
   "metadata": {},
   "outputs": [
    {
     "name": "stdout",
     "output_type": "stream",
     "text": [
      "Populating the interactive namespace from numpy and matplotlib\n"
     ]
    }
   ],
   "source": [
    "%pylab inline\n",
    "import pandas as pd"
   ]
  },
  {
   "cell_type": "markdown",
   "metadata": {},
   "source": [
    "### a) Calculate the flux emitted by the Sun in W m-2 using the Stefan-Boltzmann Law."
   ]
  },
  {
   "cell_type": "code",
   "execution_count": 11,
   "metadata": {},
   "outputs": [
    {
     "name": "stdout",
     "output_type": "stream",
     "text": [
      "The flux from the Sun is: 62934436.58666411 W m-2\n"
     ]
    }
   ],
   "source": [
    "Tsun = 5772                     # K; chosen to yield S = 1361 W m-2\n",
    "E    = 5.67e-8 * Tsun**4        # W m-2\n",
    "print('The flux from the Sun is:',E, 'W m-2')"
   ]
  },
  {
   "cell_type": "markdown",
   "metadata": {},
   "source": [
    "### b) Calculate the total power emitted by the Sun's surface."
   ]
  },
  {
   "cell_type": "code",
   "execution_count": 12,
   "metadata": {},
   "outputs": [
    {
     "name": "stdout",
     "output_type": "stream",
     "text": [
      "Power emitted by the Sun is: 3.8277381380933445e+26 Watts\n"
     ]
    }
   ],
   "source": [
    "Rs   = 695.7e6                    # meters\n",
    "As   = 4*pi*Rs**2                 # m2\n",
    "Psun = E * As\n",
    "print('Power emitted by the Sun is:', Psun, 'Watts')"
   ]
  },
  {
   "cell_type": "markdown",
   "metadata": {},
   "source": [
    "### Now determine the flux (in W m-2) from the Sun, but at the distance of the Earth's orbit. NOTE that the total power from the Sun is spread over a very large area (in space...)"
   ]
  },
  {
   "cell_type": "code",
   "execution_count": 13,
   "metadata": {},
   "outputs": [
    {
     "name": "stdout",
     "output_type": "stream",
     "text": [
      "The Solar Constant for Earth is: 1361.0346073015646 W m-2\n"
     ]
    }
   ],
   "source": [
    "# Average radius of Earth's orbit around the Sun.\n",
    "Res   = 149.6e9                    # meters\n",
    "# Surface area of a sphere with radius equal to Re.\n",
    "Aes   = 4*pi*Res**2                # m2\n",
    "# Solar Constant\n",
    "S     = Psun / Aes\n",
    "print('The Solar Constant for Earth is:', S, 'W m-2')"
   ]
  },
  {
   "cell_type": "markdown",
   "metadata": {},
   "source": [
    "---"
   ]
  },
  {
   "cell_type": "markdown",
   "metadata": {},
   "source": [
    "### Now how much power is intercepted by the Earth as the Sun's rays pass by it."
   ]
  },
  {
   "cell_type": "code",
   "execution_count": 14,
   "metadata": {},
   "outputs": [
    {
     "name": "stdout",
     "output_type": "stream",
     "text": [
      "The amount of power (in Watts) that is constantly intercepted by Earth is: 1.7513743661383942e+17 Watts\n"
     ]
    }
   ],
   "source": [
    "Re   = 6.4e6                        # meters\n",
    "Aint = pi*Re**2                     # Area intercepted by Earth in m2\n",
    "Pe   = S * Aint\n",
    "print('The amount of power (in Watts) that is constantly intercepted by Earth is:', Pe, 'Watts')"
   ]
  },
  {
   "cell_type": "markdown",
   "metadata": {},
   "source": [
    "### Convert this to Terawatts (TW); 1 TW = 1e12 W"
   ]
  },
  {
   "cell_type": "code",
   "execution_count": 15,
   "metadata": {},
   "outputs": [
    {
     "name": "stdout",
     "output_type": "stream",
     "text": [
      "The amount of power (in TW) that is constantly intercepted by Earth is: 175137.4366138394 TW\n"
     ]
    }
   ],
   "source": [
    "print('The amount of power (in TW) that is constantly intercepted by Earth is:', Pe/1e12, 'TW')"
   ]
  },
  {
   "cell_type": "markdown",
   "metadata": {},
   "source": [
    "## As Dessler explains, all of human society currently consumes only 16 TW. So we only need to capture 0.01% of the Sun's power to meet all of our energy needs."
   ]
  },
  {
   "cell_type": "markdown",
   "metadata": {},
   "source": [
    "---"
   ]
  },
  {
   "cell_type": "code",
   "execution_count": 16,
   "metadata": {},
   "outputs": [
    {
     "data": {
      "text/plain": [
       "238.1810562777738"
      ]
     },
     "execution_count": 16,
     "metadata": {},
     "output_type": "execute_result"
    }
   ],
   "source": [
    "a = 0.3                               # Earth's albedo; unitless\n",
    "S*(1-a)/4"
   ]
  },
  {
   "cell_type": "markdown",
   "metadata": {},
   "source": [
    "### Note that S/4 is equal to 342 W m-2."
   ]
  },
  {
   "cell_type": "code",
   "execution_count": 17,
   "metadata": {
    "scrolled": true
   },
   "outputs": [
    {
     "data": {
      "text/plain": [
       "340.25865182539115"
      ]
     },
     "execution_count": 17,
     "metadata": {},
     "output_type": "execute_result"
    }
   ],
   "source": [
    "S/4"
   ]
  },
  {
   "cell_type": "markdown",
   "metadata": {},
   "source": [
    "---"
   ]
  },
  {
   "cell_type": "markdown",
   "metadata": {},
   "source": [
    "## Sensitivity to Earth-Sun Distance"
   ]
  },
  {
   "cell_type": "code",
   "execution_count": 18,
   "metadata": {
    "scrolled": true
   },
   "outputs": [
    {
     "data": {
      "text/html": [
       "<div>\n",
       "<style scoped>\n",
       "    .dataframe tbody tr th:only-of-type {\n",
       "        vertical-align: middle;\n",
       "    }\n",
       "\n",
       "    .dataframe tbody tr th {\n",
       "        vertical-align: top;\n",
       "    }\n",
       "\n",
       "    .dataframe thead th {\n",
       "        text-align: right;\n",
       "    }\n",
       "</style>\n",
       "<table border=\"1\" class=\"dataframe\">\n",
       "  <thead>\n",
       "    <tr style=\"text-align: right;\">\n",
       "      <th></th>\n",
       "      <th>Earth-Sun Distance</th>\n",
       "      <th>Area</th>\n",
       "      <th>Solar Constant</th>\n",
       "      <th>% difference</th>\n",
       "    </tr>\n",
       "  </thead>\n",
       "  <tbody>\n",
       "    <tr>\n",
       "      <th>0</th>\n",
       "      <td>1.471000e+11</td>\n",
       "      <td>2.719163e+23</td>\n",
       "      <td>1407.689949</td>\n",
       "      <td>3.427932</td>\n",
       "    </tr>\n",
       "    <tr>\n",
       "      <th>1</th>\n",
       "      <td>1.496000e+11</td>\n",
       "      <td>2.812374e+23</td>\n",
       "      <td>1361.034607</td>\n",
       "      <td>0.000000</td>\n",
       "    </tr>\n",
       "    <tr>\n",
       "      <th>2</th>\n",
       "      <td>1.521000e+11</td>\n",
       "      <td>2.907156e+23</td>\n",
       "      <td>1316.660865</td>\n",
       "      <td>-3.260295</td>\n",
       "    </tr>\n",
       "  </tbody>\n",
       "</table>\n",
       "</div>"
      ],
      "text/plain": [
       "   Earth-Sun Distance          Area  Solar Constant  % difference\n",
       "0        1.471000e+11  2.719163e+23     1407.689949      3.427932\n",
       "1        1.496000e+11  2.812374e+23     1361.034607      0.000000\n",
       "2        1.521000e+11  2.907156e+23     1316.660865     -3.260295"
      ]
     },
     "execution_count": 18,
     "metadata": {},
     "output_type": "execute_result"
    }
   ],
   "source": [
    "SensRes                   = pd.DataFrame({'Earth-Sun Distance': [147.1e9,149.6e9,152.1e9]})\n",
    "SensRes['Area']           = 4 * pi * SensRes['Earth-Sun Distance']**2\n",
    "SensRes['Solar Constant'] = Psun / SensRes['Area']\n",
    "SensRes['% difference']   = (SensRes['Solar Constant'] - SensRes['Solar Constant'].iloc[1]) / SensRes['Solar Constant'].iloc[1] * 100\n",
    "SensRes"
   ]
  },
  {
   "cell_type": "markdown",
   "metadata": {},
   "source": [
    "---"
   ]
  },
  {
   "cell_type": "markdown",
   "metadata": {},
   "source": [
    "## Sensitivity to Sun's surface temperature."
   ]
  },
  {
   "cell_type": "markdown",
   "metadata": {},
   "source": [
    "#### Note that the solar constant varies by about 0.1% (1.3 W m-2) during the 11-year solar cycle, from about 1361 to 1362.3 W m-2. http://acrim.com/TSI%20Monitoring.htm"
   ]
  },
  {
   "cell_type": "code",
   "execution_count": 19,
   "metadata": {},
   "outputs": [
    {
     "data": {
      "text/html": [
       "<div>\n",
       "<style scoped>\n",
       "    .dataframe tbody tr th:only-of-type {\n",
       "        vertical-align: middle;\n",
       "    }\n",
       "\n",
       "    .dataframe tbody tr th {\n",
       "        vertical-align: top;\n",
       "    }\n",
       "\n",
       "    .dataframe thead th {\n",
       "        text-align: right;\n",
       "    }\n",
       "</style>\n",
       "<table border=\"1\" class=\"dataframe\">\n",
       "  <thead>\n",
       "    <tr style=\"text-align: right;\">\n",
       "      <th></th>\n",
       "      <th>Temperature of Sun</th>\n",
       "      <th>Power Emitted by Sun</th>\n",
       "      <th>Solar Constant</th>\n",
       "      <th>% difference</th>\n",
       "    </tr>\n",
       "  </thead>\n",
       "  <tbody>\n",
       "    <tr>\n",
       "      <th>0</th>\n",
       "      <td>5772.0</td>\n",
       "      <td>3.827738e+26</td>\n",
       "      <td>1361.034607</td>\n",
       "      <td>0.000000</td>\n",
       "    </tr>\n",
       "    <tr>\n",
       "      <th>1</th>\n",
       "      <td>5773.5</td>\n",
       "      <td>3.831719e+26</td>\n",
       "      <td>1362.449956</td>\n",
       "      <td>0.103883</td>\n",
       "    </tr>\n",
       "  </tbody>\n",
       "</table>\n",
       "</div>"
      ],
      "text/plain": [
       "   Temperature of Sun  Power Emitted by Sun  Solar Constant  % difference\n",
       "0              5772.0          3.827738e+26     1361.034607      0.000000\n",
       "1              5773.5          3.831719e+26     1362.449956      0.103883"
      ]
     },
     "execution_count": 19,
     "metadata": {},
     "output_type": "execute_result"
    }
   ],
   "source": [
    "Tsun = np.array([5772, 5773.5])   # K; chosen to yield S = 1361 W m-2\n",
    "E    = 5.67e-8 * Tsun**4        # W m-2\n",
    "Rs   = 695.7e6                  # meters\n",
    "As   = 4*pi*Rs**2               # m2\n",
    "Psun = E * As\n",
    "# Average radius of Earth's orbit around the Sun.\n",
    "Res   = 149.6e9                 # meters\n",
    "# Surface area of a sphere with radius equal to Re.\n",
    "Aes   = 4*pi*Res**2             # m2\n",
    "# Solar Constant\n",
    "S     = Psun / Aes\n",
    "\n",
    "SensTsun = pd.DataFrame({'Temperature of Sun':   Tsun,\n",
    "                         'Power Emitted by Sun': Psun,\n",
    "                         'Solar Constant':       S,\n",
    "                         '% difference': (S-S[0])/S[1]*100})\n",
    "SensTsun[['Temperature of Sun', 'Power Emitted by Sun', 'Solar Constant', '% difference']]"
   ]
  },
  {
   "cell_type": "code",
   "execution_count": null,
   "metadata": {},
   "outputs": [],
   "source": []
  }
 ],
 "metadata": {
  "kernelspec": {
   "display_name": "Python 3",
   "language": "python",
   "name": "python3"
  },
  "language_info": {
   "codemirror_mode": {
    "name": "ipython",
    "version": 3
   },
   "file_extension": ".py",
   "mimetype": "text/x-python",
   "name": "python",
   "nbconvert_exporter": "python",
   "pygments_lexer": "ipython3",
   "version": "3.7.6"
  }
 },
 "nbformat": 4,
 "nbformat_minor": 2
}
