{
 "cells": [
  {
   "cell_type": "markdown",
   "metadata": {},
   "source": [
    "# Approximate the Decrease in Sea-level from the Laurentide Ice Sheet"
   ]
  },
  {
   "cell_type": "markdown",
   "metadata": {},
   "source": [
    "This notebook does a quick calculation of how much ice was contained in the Laurentide Ice Sheet about 20,000 years ago, and how that may have affected sea level at that time."
   ]
  },
  {
   "cell_type": "code",
   "execution_count": 1,
   "metadata": {},
   "outputs": [],
   "source": [
    "# Approximate the volume of water in the Laurentide Ice Sheet\n",
    "surface_area_of_Canada     = 10e6       # km^2\n",
    "average_height_of_icesheet = 1.750      # km\n",
    "volume_of_ice              = surface_area_of_Canada * average_height_of_icesheet\n",
    "\n",
    "# Assume the density of ice in the Laurentide\n",
    "rho_ice                    = 917        # kg m-3\n",
    "rho_water                  = 1000       # kg m-3\n",
    "\n",
    "volume_of_water            = volume_of_ice * (rho_water / rho_ice)"
   ]
  },
  {
   "cell_type": "code",
   "execution_count": 3,
   "metadata": {},
   "outputs": [
    {
     "name": "stdout",
     "output_type": "stream",
     "text": [
      "The estimated volume of water in the Laurentide ice sheet is: 19083969.465648852 km^3\n"
     ]
    }
   ],
   "source": [
    "print(\"The estimated volume of water in the Laurentide ice sheet is:\", volume_of_water, \"km^3\")"
   ]
  },
  {
   "cell_type": "code",
   "execution_count": 7,
   "metadata": {},
   "outputs": [],
   "source": [
    "# Now divide by the surface area of oceans on earth to get the depth of water required to create the ice sheet.\n",
    "surface_area_of_oceans     = 361e6        # km^2\n",
    "sea_level_change           = volume_of_water / surface_area_of_oceans * 1000   # meters"
   ]
  },
  {
   "cell_type": "code",
   "execution_count": 24,
   "metadata": {},
   "outputs": [
    {
     "name": "stdout",
     "output_type": "stream",
     "text": [
      "Decrease in sea level due to the Laurentide Ice Sheet:  52.9 meters\n"
     ]
    }
   ],
   "source": [
    "print(f'Decrease in sea level due to the Laurentide Ice Sheet: {sea_level_change:{5.3}} meters')"
   ]
  },
  {
   "cell_type": "markdown",
   "metadata": {},
   "source": [
    "## The actual value at the height of the last ice age was actually about 120 meters."
   ]
  },
  {
   "cell_type": "markdown",
   "metadata": {},
   "source": [
    "[Sea Level Rise, After the Ice Melted and Today](https://www.giss.nasa.gov/research/briefs/gornitz_09/)"
   ]
  },
  {
   "cell_type": "markdown",
   "metadata": {},
   "source": [
    "### Where might we have underestimated our calculation? The density of ice !!"
   ]
  },
  {
   "cell_type": "markdown",
   "metadata": {},
   "source": [
    "So find the necessary density of ice to get 120 meters of sea level."
   ]
  },
  {
   "cell_type": "code",
   "execution_count": 29,
   "metadata": {},
   "outputs": [],
   "source": [
    "new_rho_of_ice = volume_of_ice * (rho_water) / (surface_area_of_oceans * 120/1000)"
   ]
  },
  {
   "cell_type": "code",
   "execution_count": 30,
   "metadata": {},
   "outputs": [
    {
     "data": {
      "text/plain": [
       "403.97045244690673"
      ]
     },
     "execution_count": 30,
     "metadata": {},
     "output_type": "execute_result"
    }
   ],
   "source": [
    "new_rho_of_ice"
   ]
  },
  {
   "cell_type": "markdown",
   "metadata": {},
   "source": [
    "## So the density of ice would have had to be much lower; 400 kg/m^3."
   ]
  }
 ],
 "metadata": {
  "kernelspec": {
   "display_name": "Python 3",
   "language": "python",
   "name": "python3"
  },
  "language_info": {
   "codemirror_mode": {
    "name": "ipython",
    "version": 3
   },
   "file_extension": ".py",
   "mimetype": "text/x-python",
   "name": "python",
   "nbconvert_exporter": "python",
   "pygments_lexer": "ipython3",
   "version": "3.7.6"
  }
 },
 "nbformat": 4,
 "nbformat_minor": 2
}
